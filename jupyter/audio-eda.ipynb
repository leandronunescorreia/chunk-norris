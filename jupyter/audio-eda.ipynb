{
 "cells": [
  {
   "cell_type": "code",
   "execution_count": null,
   "id": "4054edff",
   "metadata": {},
   "outputs": [],
   "source": [
    "file_path = 'C:\\\\videos\\\\TheGreat_2_2001_169_2398_ProRes422HQ_ENG20_ENG51_BPO20_BPO51_Primary_A17913780.mov'"
   ]
  },
  {
   "cell_type": "code",
   "execution_count": null,
   "id": "7e56b787",
   "metadata": {},
   "outputs": [],
   "source": [
    "import numpy as np\n",
    "import subprocess\n",
    "import wave\n",
    "import io\n",
    "import contextlib\n",
    "\n",
    "def extract_audio_and_analyze(file_name, audio_track=0, sampling=44100):\n",
    "    # FFmpeg command to extract mono, 16-bit PCM raw audio\n",
    "    command = [\n",
    "        \"ffmpeg\",\n",
    "        \"-nostdin\",\n",
    "        \"-threads\", \"0\",\n",
    "        \"-i\", file_name,\n",
    "        \"-map\", f\"0:a:{audio_track}\",\n",
    "        \"-f\", \"s16le\",\n",
    "        \"-ac\", \"1\",  # mono\n",
    "        \"-acodec\", \"pcm_s16le\",\n",
    "        \"-ar\", str(sampling),\n",
    "        \"-\"\n",
    "    ]\n",
    "\n",
    "    # Run FFmpeg and get raw audio output\n",
    "    result = subprocess.run(command, capture_output=True, check=True)\n",
    "    raw_audio = result.stdout\n",
    "\n",
    "    # Convert raw audio to numpy array\n",
    "    audio_np = np.frombuffer(raw_audio, dtype=np.int16)\n",
    "\n",
    "    # Calculate properties\n",
    "    bit_depth = 16  # from pcm_s16le\n",
    "    channels = 1  # mono\n",
    "    sample_rate = sampling\n",
    "    duration_seconds = len(audio_np) / sample_rate  # seconds\n",
    "    minutes = int(duration_seconds // 60)\n",
    "    seconds = int(duration_seconds % 60)\n",
    "    sample_count = len(audio_np)\n",
    "    frame_size = bit_depth // 8 * channels\n",
    "    frame_count = sample_count // channels\n",
    "    bitrate = sample_rate * bit_depth * channels  # bits per second\n",
    "\n",
    "    # Print or return audio properties\n",
    "    properties = {\n",
    "        \"bitrate\": f\"{bitrate} bps\",\n",
    "        \"sampling_rate\": sample_rate,\n",
    "        \"frame_size\": frame_size,\n",
    "        \"duration\": f\"{minutes}:{seconds:02d}\" ,\n",
    "        \"sample_count\": sample_count,\n",
    "        \"frame_count\": frame_count,\n",
    "        \"bit_depth\": bit_depth\n",
    "    }\n",
    "\n",
    "    return properties, audio_np\n",
    "\n",
    "\n",
    "sr = 16000\n",
    "# Example usage\n",
    "\n",
    "audio_info, raw = extract_audio_and_analyze(file_path, audio_track=0, sampling=sr)\n",
    "\n",
    "for key, value in audio_info.items():\n",
    "    print(f\"{key}: {value}\")\n"
   ]
  },
  {
   "cell_type": "code",
   "execution_count": null,
   "id": "95d8c121",
   "metadata": {},
   "outputs": [],
   "source": [
    "import numpy as np\n",
    "from IPython.display import Audio\n",
    "\n",
    "# Play it\n",
    "Audio(raw, rate=sr)\n"
   ]
  },
  {
   "cell_type": "markdown",
   "id": "54f9e7ee",
   "metadata": {},
   "source": [
    "# pydub more than one track"
   ]
  },
  {
   "cell_type": "code",
   "execution_count": null,
   "id": "2e3189f4",
   "metadata": {},
   "outputs": [],
   "source": [
    "from pydub import AudioSegment\n",
    "import numpy as np"
   ]
  },
  {
   "cell_type": "code",
   "execution_count": null,
   "id": "bb508acf",
   "metadata": {},
   "outputs": [],
   "source": [
    "audio = AudioSegment.from_file(file_path)\n",
    "audio.channels"
   ]
  },
  {
   "cell_type": "code",
   "execution_count": null,
   "id": "819ca6eb",
   "metadata": {},
   "outputs": [],
   "source": [
    "\n",
    "\n",
    "\n",
    "# Ensure the file has 16 channels\n",
    "if audio.channels < len(audio_track):\n",
    "    raise ValueError(f\"The audio file have only {audio.channels}.\")\n",
    "\n",
    "# Extract the specified tracks\n",
    "tracks = [audio.split_to_mono()[i] for i in audio_track]\n",
    "\n",
    "# Downmix the tracks if mixed is True\n",
    "if mixed:\n",
    "    downmixed = tracks[0]\n",
    "    for track in tracks[1:]:\n",
    "        downmixed = downmixed.overlay(track)\n",
    "    tracks = [downmixed]\n",
    "\n",
    "# Convert to numpy array\n",
    "samples = np.array(\n",
    "    [np.array(track.get_array_of_samples(), dtype=np.float32) for track in tracks]\n",
    ")\n",
    "\n",
    "# Normalize to range [-1, 1]\n",
    "samples /= np.iinfo(audio.array_type).max\n",
    "\n",
    "# If mixed, return a single array; otherwise, return stacked arrays\n",
    "return samples[0] if mixed else np.stack(samples)"
   ]
  }
 ],
 "metadata": {
  "kernelspec": {
   "display_name": "chunk-norris",
   "language": "python",
   "name": "python3"
  },
  "language_info": {
   "codemirror_mode": {
    "name": "ipython",
    "version": 3
   },
   "file_extension": ".py",
   "mimetype": "text/x-python",
   "name": "python",
   "nbconvert_exporter": "python",
   "pygments_lexer": "ipython3",
   "version": "3.9.21"
  }
 },
 "nbformat": 4,
 "nbformat_minor": 5
}
